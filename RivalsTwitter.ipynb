{
 "cells": [
  {
   "cell_type": "code",
   "execution_count": 1,
   "metadata": {},
   "outputs": [],
   "source": [
    "import os \n",
    "import re\n",
    "import tweepy as tw\n",
    "import pandas as pd\n",
    "import numpy as np\n",
    "from vaderSentiment.vaderSentiment import SentimentIntensityAnalyzer"
   ]
  },
  {
   "cell_type": "code",
   "execution_count": 2,
   "metadata": {},
   "outputs": [],
   "source": [
    "consumer_key = 'your_consumer_key'\n",
    "consumer_secret = 'your_consumer_secret'\n",
    "bearer_token = 'your_bearer_token'\n",
    "access_token = 'your_access_token'\n",
    "access_token_secret = 'your_access_token_secret'\n",
    "auth = tw.OAuthHandler(consumer_key, consumer_secret)\n",
    "auth.set_access_token(access_token, access_token_secret)\n",
    "api = tw.API(auth, wait_on_rate_limit=True)"
   ]
  },
  {
   "cell_type": "code",
   "execution_count": 3,
   "metadata": {},
   "outputs": [],
   "source": [
    "analyzer = SentimentIntensityAnalyzer()\n",
    "def text_sentiment(text):\n",
    "    vs = analyzer.polarity_scores(text)\n",
    "    if vs.get(\"compound\") >= 0.05:\n",
    "        return 1\n",
    "    elif vs.get(\"compound\") <= -0.05:\n",
    "        return -1\n",
    "    else:\n",
    "        return 0"
   ]
  },
  {
   "cell_type": "markdown",
   "metadata": {},
   "source": [
    "# Existing players in GT roster with twitter account"
   ]
  },
  {
   "cell_type": "code",
   "execution_count": 4,
   "metadata": {
    "scrolled": true
   },
   "outputs": [
    {
     "data": {
      "text/html": [
       "<div>\n",
       "<style scoped>\n",
       "    .dataframe tbody tr th:only-of-type {\n",
       "        vertical-align: middle;\n",
       "    }\n",
       "\n",
       "    .dataframe tbody tr th {\n",
       "        vertical-align: top;\n",
       "    }\n",
       "\n",
       "    .dataframe thead th {\n",
       "        text-align: right;\n",
       "    }\n",
       "</style>\n",
       "<table border=\"1\" class=\"dataframe\">\n",
       "  <thead>\n",
       "    <tr style=\"text-align: right;\">\n",
       "      <th></th>\n",
       "      <th>name</th>\n",
       "      <th>twitter</th>\n",
       "    </tr>\n",
       "  </thead>\n",
       "  <tbody>\n",
       "    <tr>\n",
       "      <th>0</th>\n",
       "      <td>djimon brooks</td>\n",
       "      <td>https://twitter.com/djimoskie_69</td>\n",
       "    </tr>\n",
       "    <tr>\n",
       "      <th>1</th>\n",
       "      <td>juanyeh thomas</td>\n",
       "      <td>https://twitter.com/STG_Yeh1</td>\n",
       "    </tr>\n",
       "    <tr>\n",
       "      <th>2</th>\n",
       "      <td>tariq carpenter</td>\n",
       "      <td>https://twitter.com/STG_Riq2</td>\n",
       "    </tr>\n",
       "    <tr>\n",
       "      <th>3</th>\n",
       "      <td>tre swilling</td>\n",
       "      <td>https://twitter.com/SwillingTre</td>\n",
       "    </tr>\n",
       "    <tr>\n",
       "      <th>4</th>\n",
       "      <td>tobias oliver</td>\n",
       "      <td>https://twitter.com/tobiasoliver_8</td>\n",
       "    </tr>\n",
       "  </tbody>\n",
       "</table>\n",
       "</div>"
      ],
      "text/plain": [
       "              name                             twitter\n",
       "0    djimon brooks    https://twitter.com/djimoskie_69\n",
       "1   juanyeh thomas        https://twitter.com/STG_Yeh1\n",
       "2  tariq carpenter        https://twitter.com/STG_Riq2\n",
       "3     tre swilling     https://twitter.com/SwillingTre\n",
       "4    tobias oliver  https://twitter.com/tobiasoliver_8"
      ]
     },
     "execution_count": 4,
     "metadata": {},
     "output_type": "execute_result"
    }
   ],
   "source": [
    "ingt = pd.read_csv(\"rivals.csv\")\n",
    "ingt.head()\n",
    "ihavetw = pd.read_csv(\"existing_gt_players.csv\")\n",
    "ihavetw.head()"
   ]
  },
  {
   "cell_type": "code",
   "execution_count": 5,
   "metadata": {
    "scrolled": false
   },
   "outputs": [
    {
     "name": "stderr",
     "output_type": "stream",
     "text": [
      "<ipython-input-5-03e5cb20c82a>:2: SettingWithCopyWarning: \n",
      "A value is trying to be set on a copy of a slice from a DataFrame.\n",
      "Try using .loc[row_indexer,col_indexer] = value instead\n",
      "\n",
      "See the caveats in the documentation: https://pandas.pydata.org/pandas-docs/stable/user_guide/indexing.html#returning-a-view-versus-a-copy\n",
      "  ingttw[\"name\"] = ingttw[\"NAME \"].apply(lambda x: str.lower(x))\n"
     ]
    }
   ],
   "source": [
    "ingttw = ingt.dropna(axis = 0)\n",
    "ingttw[\"name\"] = ingttw[\"NAME \"].apply(lambda x: str.lower(x))\n",
    "withtw = pd.merge(ingttw, ihavetw, on = 'name', how = 'left')\n"
   ]
  },
  {
   "cell_type": "code",
   "execution_count": null,
   "metadata": {},
   "outputs": [],
   "source": [
    "withtw.to_csv(\"twitter.csv\", index = False)"
   ]
  },
  {
   "cell_type": "code",
   "execution_count": 6,
   "metadata": {},
   "outputs": [],
   "source": [
    "ihavetw = pd.read_csv(\"twitter.csv\")"
   ]
  },
  {
   "cell_type": "code",
   "execution_count": 7,
   "metadata": {},
   "outputs": [
    {
     "name": "stdout",
     "output_type": "stream",
     "text": [
      "<class 'pandas.core.frame.DataFrame'>\n",
      "RangeIndex: 41 entries, 0 to 40\n",
      "Data columns (total 12 columns):\n",
      " #   Column      Non-Null Count  Dtype  \n",
      "---  ------      --------------  -----  \n",
      " 0   Unnamed: 0  41 non-null     int64  \n",
      " 1   NAME        41 non-null     object \n",
      " 2   POS         41 non-null     object \n",
      " 3   LOCATION    41 non-null     object \n",
      " 4   HT          41 non-null     object \n",
      " 5   WT          41 non-null     int64  \n",
      " 6   STARS       41 non-null     int64  \n",
      " 7   RATING      41 non-null     float64\n",
      " 8   COMMITTED   41 non-null     object \n",
      " 9   account     41 non-null     int64  \n",
      " 10  name        41 non-null     object \n",
      " 11  twitter     41 non-null     object \n",
      "dtypes: float64(1), int64(4), object(7)\n",
      "memory usage: 4.0+ KB\n"
     ]
    }
   ],
   "source": [
    "ihavetw.info()"
   ]
  },
  {
   "cell_type": "code",
   "execution_count": 8,
   "metadata": {},
   "outputs": [
    {
     "name": "stdout",
     "output_type": "stream",
     "text": [
      "   Unnamed: 0             NAME   POS           LOCATION     HT   WT  STARS  \\\n",
      "0           0  Khatavian Franks  LB       Fairburn, GA   6'3\"   203      3   \n",
      "1           1      Jeffrey Sims  QB   Jacksonville, FL   6'3\"   195      4   \n",
      "2           2        Jared Ivey  DE        Suwanee, GA   6'6\"   215      3   \n",
      "3           3     Paula Vaipulu  OL    Channelview, TX   6'4\"   303      3   \n",
      "4           4       Ryan Spiers  OL         Biloxi, MS   6'4\"   275      2   \n",
      "\n",
      "   RATING   COMMITTED  account              name         twitter  \n",
      "0     5.6  2019-12-18        1  khatavian franks     khatavian_4  \n",
      "1     5.8  2019-12-18        1      jeffrey sims     JeffSims_10  \n",
      "2     5.7  2019-12-11        1        jared ivey  jared_ivey1595  \n",
      "3     5.5  2019-10-31        1     paula vaipulu          PTV_70  \n",
      "4     5.4  2019-09-08        1       ryan spiers    ryanspiers71  \n"
     ]
    }
   ],
   "source": [
    "for url in ihavetw[\"twitter\"].values:\n",
    "    ihavetw.loc[ihavetw[\"twitter\"] == url, \"twitter\"] = re.sub(\"https://twitter.com/\",\"\", url)\n",
    "print(ihavetw.head())"
   ]
  },
  {
   "cell_type": "code",
   "execution_count": 9,
   "metadata": {},
   "outputs": [],
   "source": [
    "ihavetw[\"state\"] = ihavetw[\"LOCATION\"].str.split(',', expand = True)[1].str.strip()\n",
    "ihavetw[\"POS\"] = ihavetw[\"POS\"].str.strip()\n",
    "ihavetw[\"state\"] = ihavetw[\"state\"].apply(lambda x: \"INT\" if str(x) == 'null' else x)\n",
    "ihavetw[\"COMMITTED\"] = pd.to_datetime(ihavetw[\"COMMITTED\"])"
   ]
  },
  {
   "cell_type": "code",
   "execution_count": 10,
   "metadata": {},
   "outputs": [],
   "source": [
    "heights = ihavetw[\"HT\"].str.split(r'(\\'|\\\")', expand = True)\n",
    "ihavetw[\"height_in\"] = heights[0].astype('float') * 12 + heights[2].astype('float')"
   ]
  },
  {
   "cell_type": "code",
   "execution_count": 11,
   "metadata": {
    "scrolled": true
   },
   "outputs": [],
   "source": [
    "userid = ihavetw[\"twitter\"].values\n",
    "ihavetw[[\"sentiment\", \"neu\", \"pos\",\"neg\"]] = 0"
   ]
  },
  {
   "cell_type": "code",
   "execution_count": 12,
   "metadata": {},
   "outputs": [
    {
     "name": "stdout",
     "output_type": "stream",
     "text": [
      "[{'code': 63, 'message': 'User has been suspended.'}]\n"
     ]
    }
   ],
   "source": [
    "try:\n",
    "    api.get_user('__TKC11')\n",
    "except Exception as error:\n",
    "    print(error)"
   ]
  },
  {
   "cell_type": "code",
   "execution_count": 13,
   "metadata": {},
   "outputs": [
    {
     "name": "stdout",
     "output_type": "stream",
     "text": [
      "[{'code': 63, 'message': 'User has been suspended.'}] __TKC11\n"
     ]
    }
   ],
   "source": [
    "count = 25\n",
    "for name in userid:\n",
    "    totsent, neutral, posi, nega = [], [] , [] ,[]\n",
    "#     print(name)\n",
    "    try:\n",
    "        if not api.get_user(name).protected:\n",
    "            datemax = ihavetw.loc[ihavetw[\"twitter\"] == name, \"COMMITTED\"]\n",
    "            tweets = tw.Cursor(api.user_timeline, id = name, max = datemax, count = count)\n",
    "            for a in tweets.items(count):\n",
    "                txt = a.text\n",
    "                totsent.append(text_sentiment(txt))\n",
    "                feel = analyzer.polarity_scores(txt)\n",
    "                neutral.append(feel.get('neu'))\n",
    "                posi.append(feel.get('pos'))\n",
    "                nega.append(feel.get('neg'))\n",
    "            ihavetw.loc[ihavetw[\"twitter\"] == name, \"sentiment\"] = np.mean(totsent)\n",
    "            ihavetw.loc[ihavetw[\"twitter\"] == name, \"neu\"] = np.mean(neutral)\n",
    "            ihavetw.loc[ihavetw[\"twitter\"] == name, \"pos\"] = np.mean(posi)\n",
    "            ihavetw.loc[ihavetw[\"twitter\"] == name, \"neg\"] = np.mean(nega)\n",
    "    except Exception as error:\n",
    "        print(error, name)\n",
    "        ihavetw.loc[ihavetw[\"twitter\"] == name, \"sentiment\"] = -1\n",
    "        ihavetw.loc[ihavetw[\"twitter\"] == name, \"neu\"] = 0\n",
    "        ihavetw.loc[ihavetw[\"twitter\"] == name, \"pos\"] = 0\n",
    "        ihavetw.loc[ihavetw[\"twitter\"] == name, \"neg\"] = -1"
   ]
  },
  {
   "cell_type": "code",
   "execution_count": 14,
   "metadata": {},
   "outputs": [],
   "source": [
    "ihavetw.drop(columns = ['Unnamed: 0', 'account', 'name'], inplace = True)"
   ]
  },
  {
   "cell_type": "code",
   "execution_count": 15,
   "metadata": {},
   "outputs": [
    {
     "name": "stdout",
     "output_type": "stream",
     "text": [
      "<class 'pandas.core.frame.DataFrame'>\n",
      "RangeIndex: 41 entries, 0 to 40\n",
      "Data columns (total 15 columns):\n",
      " #   Column     Non-Null Count  Dtype         \n",
      "---  ------     --------------  -----         \n",
      " 0   NAME       41 non-null     object        \n",
      " 1   POS        41 non-null     object        \n",
      " 2   LOCATION   41 non-null     object        \n",
      " 3   HT         41 non-null     object        \n",
      " 4   WT         41 non-null     int64         \n",
      " 5   STARS      41 non-null     int64         \n",
      " 6   RATING     41 non-null     float64       \n",
      " 7   COMMITTED  41 non-null     datetime64[ns]\n",
      " 8   twitter    41 non-null     object        \n",
      " 9   state      41 non-null     object        \n",
      " 10  height_in  41 non-null     float64       \n",
      " 11  sentiment  41 non-null     float64       \n",
      " 12  neu        41 non-null     float64       \n",
      " 13  pos        41 non-null     float64       \n",
      " 14  neg        41 non-null     float64       \n",
      "dtypes: datetime64[ns](1), float64(6), int64(2), object(6)\n",
      "memory usage: 4.9+ KB\n"
     ]
    }
   ],
   "source": [
    "ihavetw.info()"
   ]
  },
  {
   "cell_type": "code",
   "execution_count": 17,
   "metadata": {},
   "outputs": [],
   "source": [
    "offense = ['WR', 'RB', 'QB', 'TE', 'LT', 'LG', 'C', 'RG', 'RT', 'OL', 'ATH']\n",
    "defense = ['CB', 'FS','DE','DT','LB', 'SS', 'DB']\n",
    "ihavetw[\"part\"] = ihavetw[\"POS\"].apply(lambda x: 'defense' if x in defense else 'offense')"
   ]
  },
  {
   "cell_type": "code",
   "execution_count": 18,
   "metadata": {
    "scrolled": false
   },
   "outputs": [
    {
     "data": {
      "text/html": [
       "<div>\n",
       "<style scoped>\n",
       "    .dataframe tbody tr th:only-of-type {\n",
       "        vertical-align: middle;\n",
       "    }\n",
       "\n",
       "    .dataframe tbody tr th {\n",
       "        vertical-align: top;\n",
       "    }\n",
       "\n",
       "    .dataframe thead th {\n",
       "        text-align: right;\n",
       "    }\n",
       "</style>\n",
       "<table border=\"1\" class=\"dataframe\">\n",
       "  <thead>\n",
       "    <tr style=\"text-align: right;\">\n",
       "      <th></th>\n",
       "      <th>NAME</th>\n",
       "      <th>POS</th>\n",
       "      <th>LOCATION</th>\n",
       "      <th>HT</th>\n",
       "      <th>WT</th>\n",
       "      <th>STARS</th>\n",
       "      <th>RATING</th>\n",
       "      <th>COMMITTED</th>\n",
       "      <th>twitter</th>\n",
       "      <th>state</th>\n",
       "      <th>height_in</th>\n",
       "      <th>sentiment</th>\n",
       "      <th>neu</th>\n",
       "      <th>pos</th>\n",
       "      <th>neg</th>\n",
       "      <th>part</th>\n",
       "    </tr>\n",
       "  </thead>\n",
       "  <tbody>\n",
       "    <tr>\n",
       "      <th>0</th>\n",
       "      <td>Khatavian Franks</td>\n",
       "      <td>LB</td>\n",
       "      <td>Fairburn, GA</td>\n",
       "      <td>6'3\"</td>\n",
       "      <td>203</td>\n",
       "      <td>3</td>\n",
       "      <td>5.6</td>\n",
       "      <td>2019-12-18</td>\n",
       "      <td>khatavian_4</td>\n",
       "      <td>GA</td>\n",
       "      <td>75.0</td>\n",
       "      <td>0.16</td>\n",
       "      <td>0.85028</td>\n",
       "      <td>0.09476</td>\n",
       "      <td>0.05496</td>\n",
       "      <td>defense</td>\n",
       "    </tr>\n",
       "    <tr>\n",
       "      <th>1</th>\n",
       "      <td>Jeffrey Sims</td>\n",
       "      <td>QB</td>\n",
       "      <td>Jacksonville, FL</td>\n",
       "      <td>6'3\"</td>\n",
       "      <td>195</td>\n",
       "      <td>4</td>\n",
       "      <td>5.8</td>\n",
       "      <td>2019-12-18</td>\n",
       "      <td>JeffSims_10</td>\n",
       "      <td>FL</td>\n",
       "      <td>75.0</td>\n",
       "      <td>0.36</td>\n",
       "      <td>0.82228</td>\n",
       "      <td>0.12556</td>\n",
       "      <td>0.05220</td>\n",
       "      <td>offense</td>\n",
       "    </tr>\n",
       "    <tr>\n",
       "      <th>2</th>\n",
       "      <td>Jared Ivey</td>\n",
       "      <td>DE</td>\n",
       "      <td>Suwanee, GA</td>\n",
       "      <td>6'6\"</td>\n",
       "      <td>215</td>\n",
       "      <td>3</td>\n",
       "      <td>5.7</td>\n",
       "      <td>2019-12-11</td>\n",
       "      <td>jared_ivey1595</td>\n",
       "      <td>GA</td>\n",
       "      <td>78.0</td>\n",
       "      <td>0.32</td>\n",
       "      <td>0.88184</td>\n",
       "      <td>0.11260</td>\n",
       "      <td>0.00560</td>\n",
       "      <td>defense</td>\n",
       "    </tr>\n",
       "    <tr>\n",
       "      <th>3</th>\n",
       "      <td>Paula Vaipulu</td>\n",
       "      <td>OL</td>\n",
       "      <td>Channelview, TX</td>\n",
       "      <td>6'4\"</td>\n",
       "      <td>303</td>\n",
       "      <td>3</td>\n",
       "      <td>5.5</td>\n",
       "      <td>2019-10-31</td>\n",
       "      <td>PTV_70</td>\n",
       "      <td>TX</td>\n",
       "      <td>76.0</td>\n",
       "      <td>0.28</td>\n",
       "      <td>0.82132</td>\n",
       "      <td>0.12464</td>\n",
       "      <td>0.05408</td>\n",
       "      <td>offense</td>\n",
       "    </tr>\n",
       "    <tr>\n",
       "      <th>4</th>\n",
       "      <td>Ryan Spiers</td>\n",
       "      <td>OL</td>\n",
       "      <td>Biloxi, MS</td>\n",
       "      <td>6'4\"</td>\n",
       "      <td>275</td>\n",
       "      <td>2</td>\n",
       "      <td>5.4</td>\n",
       "      <td>2019-09-08</td>\n",
       "      <td>ryanspiers71</td>\n",
       "      <td>MS</td>\n",
       "      <td>76.0</td>\n",
       "      <td>0.44</td>\n",
       "      <td>0.81844</td>\n",
       "      <td>0.16596</td>\n",
       "      <td>0.01560</td>\n",
       "      <td>offense</td>\n",
       "    </tr>\n",
       "    <tr>\n",
       "      <th>5</th>\n",
       "      <td>Avery Boyd</td>\n",
       "      <td>WR</td>\n",
       "      <td>Tallahassee, FL</td>\n",
       "      <td>6'2\"</td>\n",
       "      <td>198</td>\n",
       "      <td>3</td>\n",
       "      <td>5.6</td>\n",
       "      <td>2019-08-24</td>\n",
       "      <td>ABoyd723</td>\n",
       "      <td>FL</td>\n",
       "      <td>74.0</td>\n",
       "      <td>0.20</td>\n",
       "      <td>0.88648</td>\n",
       "      <td>0.08988</td>\n",
       "      <td>0.02368</td>\n",
       "      <td>offense</td>\n",
       "    </tr>\n",
       "    <tr>\n",
       "      <th>6</th>\n",
       "      <td>Wing Green</td>\n",
       "      <td>OL</td>\n",
       "      <td>Leesburg, GA</td>\n",
       "      <td>6'7\"</td>\n",
       "      <td>270</td>\n",
       "      <td>3</td>\n",
       "      <td>5.5</td>\n",
       "      <td>2019-06-25</td>\n",
       "      <td>WingGreenJr</td>\n",
       "      <td>GA</td>\n",
       "      <td>79.0</td>\n",
       "      <td>0.36</td>\n",
       "      <td>0.83560</td>\n",
       "      <td>0.13124</td>\n",
       "      <td>0.03316</td>\n",
       "      <td>offense</td>\n",
       "    </tr>\n",
       "    <tr>\n",
       "      <th>7</th>\n",
       "      <td>Khaya Wright</td>\n",
       "      <td>DE</td>\n",
       "      <td>Miami, FL</td>\n",
       "      <td>6'3\"</td>\n",
       "      <td>200</td>\n",
       "      <td>3</td>\n",
       "      <td>5.6</td>\n",
       "      <td>2019-06-25</td>\n",
       "      <td>Khayawright18</td>\n",
       "      <td>FL</td>\n",
       "      <td>75.0</td>\n",
       "      <td>0.00</td>\n",
       "      <td>1.00000</td>\n",
       "      <td>0.00000</td>\n",
       "      <td>0.00000</td>\n",
       "      <td>defense</td>\n",
       "    </tr>\n",
       "    <tr>\n",
       "      <th>8</th>\n",
       "      <td>Kyle Kennard</td>\n",
       "      <td>DE</td>\n",
       "      <td>Atlanta, GA</td>\n",
       "      <td>6'6\"</td>\n",
       "      <td>215</td>\n",
       "      <td>4</td>\n",
       "      <td>5.6</td>\n",
       "      <td>2019-06-12</td>\n",
       "      <td>KyleKennard1</td>\n",
       "      <td>GA</td>\n",
       "      <td>78.0</td>\n",
       "      <td>0.36</td>\n",
       "      <td>0.71896</td>\n",
       "      <td>0.17136</td>\n",
       "      <td>0.10964</td>\n",
       "      <td>defense</td>\n",
       "    </tr>\n",
       "    <tr>\n",
       "      <th>9</th>\n",
       "      <td>Jahmyr Gibbs</td>\n",
       "      <td>RB</td>\n",
       "      <td>Dalton, GA</td>\n",
       "      <td>5'11\"</td>\n",
       "      <td>194</td>\n",
       "      <td>3</td>\n",
       "      <td>5.9</td>\n",
       "      <td>2019-05-25</td>\n",
       "      <td>Jahmyr_Gibbs1</td>\n",
       "      <td>GA</td>\n",
       "      <td>71.0</td>\n",
       "      <td>0.56</td>\n",
       "      <td>0.82112</td>\n",
       "      <td>0.16268</td>\n",
       "      <td>0.01624</td>\n",
       "      <td>offense</td>\n",
       "    </tr>\n",
       "  </tbody>\n",
       "</table>\n",
       "</div>"
      ],
      "text/plain": [
       "              NAME  POS           LOCATION      HT   WT  STARS  RATING  \\\n",
       "0  Khatavian Franks  LB      Fairburn, GA    6'3\"   203      3     5.6   \n",
       "1      Jeffrey Sims  QB  Jacksonville, FL    6'3\"   195      4     5.8   \n",
       "2        Jared Ivey  DE       Suwanee, GA    6'6\"   215      3     5.7   \n",
       "3     Paula Vaipulu  OL   Channelview, TX    6'4\"   303      3     5.5   \n",
       "4       Ryan Spiers  OL        Biloxi, MS    6'4\"   275      2     5.4   \n",
       "5        Avery Boyd  WR   Tallahassee, FL    6'2\"   198      3     5.6   \n",
       "6        Wing Green  OL      Leesburg, GA    6'7\"   270      3     5.5   \n",
       "7      Khaya Wright  DE         Miami, FL    6'3\"   200      3     5.6   \n",
       "8      Kyle Kennard  DE       Atlanta, GA    6'6\"   215      4     5.6   \n",
       "9      Jahmyr Gibbs  RB        Dalton, GA   5'11\"   194      3     5.9   \n",
       "\n",
       "   COMMITTED         twitter state  height_in  sentiment      neu      pos  \\\n",
       "0 2019-12-18     khatavian_4    GA       75.0       0.16  0.85028  0.09476   \n",
       "1 2019-12-18     JeffSims_10    FL       75.0       0.36  0.82228  0.12556   \n",
       "2 2019-12-11  jared_ivey1595    GA       78.0       0.32  0.88184  0.11260   \n",
       "3 2019-10-31          PTV_70    TX       76.0       0.28  0.82132  0.12464   \n",
       "4 2019-09-08    ryanspiers71    MS       76.0       0.44  0.81844  0.16596   \n",
       "5 2019-08-24        ABoyd723    FL       74.0       0.20  0.88648  0.08988   \n",
       "6 2019-06-25     WingGreenJr    GA       79.0       0.36  0.83560  0.13124   \n",
       "7 2019-06-25   Khayawright18    FL       75.0       0.00  1.00000  0.00000   \n",
       "8 2019-06-12    KyleKennard1    GA       78.0       0.36  0.71896  0.17136   \n",
       "9 2019-05-25   Jahmyr_Gibbs1    GA       71.0       0.56  0.82112  0.16268   \n",
       "\n",
       "       neg     part  \n",
       "0  0.05496  defense  \n",
       "1  0.05220  offense  \n",
       "2  0.00560  defense  \n",
       "3  0.05408  offense  \n",
       "4  0.01560  offense  \n",
       "5  0.02368  offense  \n",
       "6  0.03316  offense  \n",
       "7  0.00000  defense  \n",
       "8  0.10964  defense  \n",
       "9  0.01624  offense  "
      ]
     },
     "execution_count": 18,
     "metadata": {},
     "output_type": "execute_result"
    }
   ],
   "source": [
    "ihavetw.head(10)"
   ]
  },
  {
   "cell_type": "code",
   "execution_count": 20,
   "metadata": {},
   "outputs": [],
   "source": [
    "ihavetw.to_csv(\"current+twit.csv\", index = False)"
   ]
  },
  {
   "cell_type": "code",
   "execution_count": 21,
   "metadata": {},
   "outputs": [],
   "source": [
    "defensename = ihavetw[ihavetw[\"part\"] == 'defense'][\"NAME \"].str.split(' ', expand = True)\n",
    "offensename = ihavetw[ihavetw[\"part\"] == 'offense'][\"NAME \"].str.split(' ', expand = True)"
   ]
  },
  {
   "cell_type": "code",
   "execution_count": 22,
   "metadata": {
    "scrolled": false
   },
   "outputs": [
    {
     "data": {
      "text/html": [
       "<div>\n",
       "<style scoped>\n",
       "    .dataframe tbody tr th:only-of-type {\n",
       "        vertical-align: middle;\n",
       "    }\n",
       "\n",
       "    .dataframe tbody tr th {\n",
       "        vertical-align: top;\n",
       "    }\n",
       "\n",
       "    .dataframe thead th {\n",
       "        text-align: right;\n",
       "    }\n",
       "</style>\n",
       "<table border=\"1\" class=\"dataframe\">\n",
       "  <thead>\n",
       "    <tr style=\"text-align: right;\">\n",
       "      <th></th>\n",
       "      <th>0</th>\n",
       "      <th>1</th>\n",
       "    </tr>\n",
       "  </thead>\n",
       "  <tbody>\n",
       "    <tr>\n",
       "      <th>1</th>\n",
       "      <td>Jeffrey</td>\n",
       "      <td>Sims</td>\n",
       "    </tr>\n",
       "    <tr>\n",
       "      <th>3</th>\n",
       "      <td>Paula</td>\n",
       "      <td>Vaipulu</td>\n",
       "    </tr>\n",
       "    <tr>\n",
       "      <th>4</th>\n",
       "      <td>Ryan</td>\n",
       "      <td>Spiers</td>\n",
       "    </tr>\n",
       "    <tr>\n",
       "      <th>5</th>\n",
       "      <td>Avery</td>\n",
       "      <td>Boyd</td>\n",
       "    </tr>\n",
       "    <tr>\n",
       "      <th>6</th>\n",
       "      <td>Wing</td>\n",
       "      <td>Green</td>\n",
       "    </tr>\n",
       "    <tr>\n",
       "      <th>9</th>\n",
       "      <td>Jahmyr</td>\n",
       "      <td>Gibbs</td>\n",
       "    </tr>\n",
       "    <tr>\n",
       "      <th>11</th>\n",
       "      <td>Cade</td>\n",
       "      <td>Kootsouradis</td>\n",
       "    </tr>\n",
       "    <tr>\n",
       "      <th>14</th>\n",
       "      <td>Ryan</td>\n",
       "      <td>King</td>\n",
       "    </tr>\n",
       "    <tr>\n",
       "      <th>15</th>\n",
       "      <td>Billy</td>\n",
       "      <td>Ward</td>\n",
       "    </tr>\n",
       "    <tr>\n",
       "      <th>18</th>\n",
       "      <td>Jamious</td>\n",
       "      <td>Griffin</td>\n",
       "    </tr>\n",
       "    <tr>\n",
       "      <th>20</th>\n",
       "      <td>Dylan</td>\n",
       "      <td>Deveney</td>\n",
       "    </tr>\n",
       "    <tr>\n",
       "      <th>22</th>\n",
       "      <td>Kalani</td>\n",
       "      <td>Norris</td>\n",
       "    </tr>\n",
       "    <tr>\n",
       "      <th>26</th>\n",
       "      <td>Jordan</td>\n",
       "      <td>Yates</td>\n",
       "    </tr>\n",
       "    <tr>\n",
       "      <th>27</th>\n",
       "      <td>Demetrius</td>\n",
       "      <td>Knight</td>\n",
       "    </tr>\n",
       "    <tr>\n",
       "      <th>28</th>\n",
       "      <td>Tony</td>\n",
       "      <td>Amerson</td>\n",
       "    </tr>\n",
       "    <tr>\n",
       "      <th>31</th>\n",
       "      <td>Malachi</td>\n",
       "      <td>Carter</td>\n",
       "    </tr>\n",
       "    <tr>\n",
       "      <th>33</th>\n",
       "      <td>Michael</td>\n",
       "      <td>Maye</td>\n",
       "    </tr>\n",
       "    <tr>\n",
       "      <th>35</th>\n",
       "      <td>Zamari</td>\n",
       "      <td>Walton</td>\n",
       "    </tr>\n",
       "    <tr>\n",
       "      <th>39</th>\n",
       "      <td>Peje</td>\n",
       "      <td>Harris</td>\n",
       "    </tr>\n",
       "  </tbody>\n",
       "</table>\n",
       "</div>"
      ],
      "text/plain": [
       "            0             1\n",
       "1     Jeffrey          Sims\n",
       "3       Paula       Vaipulu\n",
       "4        Ryan        Spiers\n",
       "5       Avery          Boyd\n",
       "6        Wing         Green\n",
       "9      Jahmyr         Gibbs\n",
       "11       Cade  Kootsouradis\n",
       "14       Ryan          King\n",
       "15      Billy          Ward\n",
       "18    Jamious       Griffin\n",
       "20      Dylan       Deveney\n",
       "22     Kalani        Norris\n",
       "26     Jordan         Yates\n",
       "27  Demetrius        Knight\n",
       "28       Tony       Amerson\n",
       "31    Malachi        Carter\n",
       "33    Michael          Maye\n",
       "35     Zamari        Walton\n",
       "39       Peje        Harris"
      ]
     },
     "execution_count": 22,
     "metadata": {},
     "output_type": "execute_result"
    }
   ],
   "source": [
    "offensename"
   ]
  },
  {
   "cell_type": "code",
   "execution_count": 23,
   "metadata": {},
   "outputs": [],
   "source": [
    "import glob as glob"
   ]
  },
  {
   "cell_type": "code",
   "execution_count": 24,
   "metadata": {},
   "outputs": [],
   "source": [
    "dfh = glob.glob(\"Players_by_cat\\players_defense*.csv\")\n",
    "dffile = []\n",
    "for i in dfh:\n",
    "    data = pd.read_csv(i)\n",
    "    dffile.append(data)"
   ]
  },
  {
   "cell_type": "code",
   "execution_count": 25,
   "metadata": {},
   "outputs": [],
   "source": [
    "ofh = glob.glob(\"Players_by_cat\\players_offense*.csv\")\n",
    "offile = []\n",
    "for i in ofh:\n",
    "    data = pd.read_csv(i)\n",
    "    offile.append(data)"
   ]
  },
  {
   "cell_type": "code",
   "execution_count": 26,
   "metadata": {},
   "outputs": [],
   "source": [
    "offensetotal = pd.concat(offile)\n",
    "oflastname = offensetotal[\"name\"].str.split(' ', expand = True)[1]\n",
    "offirstname = offensetotal[\"name\"].str.split(' ', expand = True)[0]\n",
    "[x for x in offensename[1] if x in oflastname.values]\n",
    "ofsortlast = [offensetotal[oflastname.values == x] for x in offensename[1] if x in oflastname.values]\n",
    "ofsortfirst = [offensetotal[offirstname.values == x] for x in offensename[0] if x in offirstname.values]  "
   ]
  },
  {
   "cell_type": "code",
   "execution_count": 27,
   "metadata": {},
   "outputs": [],
   "source": [
    "defensetotal = pd.concat(dffile)\n",
    "dflastname = defensetotal[\"name\"].str.split(' ', expand = True)[1]\n",
    "dffirstname = defensetotal[\"name\"].str.split(' ', expand = True)[0]\n",
    "\n",
    "dfsortlast = [defensetotal[dflastname.values == x] for x in defensename[1] if x in dflastname.values]\n",
    "dfsortfirst = [defensetotal[dffirstname.values == x] for x in defensename[0] if x in dffirstname.values]  "
   ]
  },
  {
   "cell_type": "code",
   "execution_count": 28,
   "metadata": {},
   "outputs": [],
   "source": [
    "ofsortlast = pd.concat(ofsortlast)\n",
    "ofsortfirst = pd.concat(ofsortfirst)\n",
    "dfsortlast = pd.concat(dfsortlast)\n",
    "dfsortfirst = pd.concat(dfsortfirst)"
   ]
  },
  {
   "cell_type": "code",
   "execution_count": 29,
   "metadata": {},
   "outputs": [],
   "source": [
    "ofsortlast.to_csv(\"offensefirst.csv\", index = False)\n",
    "ofsortfirst.to_csv(\"offenselast.csv\", index = False)"
   ]
  },
  {
   "cell_type": "code",
   "execution_count": 30,
   "metadata": {},
   "outputs": [],
   "source": [
    "dfsortlast.to_csv(\"defensefirst.csv\", index = False)\n",
    "dfsortfirst.to_csv(\"defenselast.csv\", index = False)"
   ]
  },
  {
   "cell_type": "code",
   "execution_count": null,
   "metadata": {},
   "outputs": [],
   "source": []
  }
 ],
 "metadata": {
  "kernelspec": {
   "display_name": "Python 3",
   "language": "python",
   "name": "python3"
  },
  "language_info": {
   "codemirror_mode": {
    "name": "ipython",
    "version": 3
   },
   "file_extension": ".py",
   "mimetype": "text/x-python",
   "name": "python",
   "nbconvert_exporter": "python",
   "pygments_lexer": "ipython3",
   "version": "3.8.5"
  }
 },
 "nbformat": 4,
 "nbformat_minor": 4
}